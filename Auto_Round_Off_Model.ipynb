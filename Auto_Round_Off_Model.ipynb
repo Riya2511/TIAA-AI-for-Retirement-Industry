{
  "nbformat": 4,
  "nbformat_minor": 0,
  "metadata": {
    "colab": {
      "provenance": []
    },
    "kernelspec": {
      "name": "python3",
      "display_name": "Python 3"
    },
    "language_info": {
      "name": "python"
    }
  },
  "cells": [
    {
      "cell_type": "code",
      "execution_count": 4,
      "metadata": {
        "colab": {
          "base_uri": "https://localhost:8080/"
        },
        "id": "YS1n-D_OYUHF",
        "outputId": "3ed13776-3650-436b-c808-cea3bcb87a4f"
      },
      "outputs": [
        {
          "output_type": "stream",
          "name": "stdout",
          "text": [
            "     expense_amount expense_category  rounded_off_amount\n",
            "0        268.086151          commute               270.0\n",
            "1        479.541131           luxury               500.0\n",
            "2        195.390788            basic               200.0\n",
            "3        121.966307            basic               130.0\n",
            "4        432.892685            daily               440.0\n",
            "..              ...              ...                 ...\n",
            "995      132.291423           luxury               200.0\n",
            "996      339.293748          commute               340.0\n",
            "997      368.198223            basic               370.0\n",
            "998      280.619894            daily               280.0\n",
            "999      219.005059           luxury               300.0\n",
            "\n",
            "[1000 rows x 3 columns]\n"
          ]
        }
      ],
      "source": [
        "import pandas as pd\n",
        "import random\n",
        "\n",
        "# Define expense categories and their corresponding rounding off amounts\n",
        "expense_categories = ['luxury', 'basic', 'daily', 'commute']\n",
        "rounding_off_factors = {'luxury': 50, 'basic': 10, 'daily': 15, 'commute': 20}\n",
        "\n",
        "# Generate synthetic data\n",
        "num_entries = 1000  # Adjust the number of entries as needed\n",
        "expenses_data = {\n",
        "    'expense_amount': [random.uniform(50, 500) for _ in range(num_entries)],\n",
        "    'expense_category': [random.choice(expense_categories) for _ in range(num_entries)]\n",
        "}\n",
        "\n",
        "# Function to round off to nearest tens or hundreds strictly greater than the original value\n",
        "def round_nearest(value):\n",
        "    return ((value + 9) // 10) * 10  # To round off to nearest tens\n",
        "\n",
        "def round_nearest_hundreds(value):\n",
        "    return ((value + 99) // 100) * 100  # To round off to nearest hundreds\n",
        "\n",
        "# Calculate rounded-off amount based on expense category\n",
        "expenses_data['rounded_off_amount'] = [\n",
        "    round_nearest(amount) if rounding_off_factors[category] != 50 else round_nearest_hundreds(amount)\n",
        "    for amount, category in zip(expenses_data['expense_amount'], expenses_data['expense_category'])\n",
        "]\n",
        "\n",
        "# Create a DataFrame\n",
        "df = pd.DataFrame(expenses_data)\n",
        "\n",
        "# Display a sample of the generated dataset\n",
        "print(df)\n"
      ]
    },
    {
      "cell_type": "code",
      "source": [
        "df.to_csv('auto_round_off.csv')"
      ],
      "metadata": {
        "id": "WHqxeyfLaPrN"
      },
      "execution_count": 5,
      "outputs": []
    },
    {
      "cell_type": "code",
      "source": [
        "import pandas as pd\n",
        "from sklearn.model_selection import train_test_split\n",
        "from sklearn.ensemble import RandomForestRegressor\n",
        "from sklearn.metrics import mean_squared_error, accuracy_score\n",
        "\n",
        "X = df[['expense_amount']]\n",
        "y = df['rounded_off_amount']\n",
        "\n",
        "X_train, X_test, y_train, y_test = train_test_split(X, y, test_size=0.2, random_state=42)\n",
        "\n",
        "rf_regressor = RandomForestRegressor(n_estimators=100, random_state=42)\n",
        "\n",
        "rf_regressor.fit(X_train, y_train)\n",
        "\n",
        "predictions = rf_regressor.predict(X_test)\n",
        "\n",
        "new_expense_amount = 353\n",
        "predicted_rounded_amount = rf_regressor.predict([[new_expense_amount]])\n",
        "print(f\"Predicted Rounded-off Amount: {predicted_rounded_amount[0]}\")\n"
      ],
      "metadata": {
        "colab": {
          "base_uri": "https://localhost:8080/"
        },
        "id": "pQPGJePnbG2J",
        "outputId": "1fa61158-cd23-460a-9464-4923d5c6b993"
      },
      "execution_count": 9,
      "outputs": [
        {
          "output_type": "stream",
          "name": "stdout",
          "text": [
            "Predicted Rounded-off Amount: 375.2\n"
          ]
        },
        {
          "output_type": "stream",
          "name": "stderr",
          "text": [
            "/usr/local/lib/python3.10/dist-packages/sklearn/base.py:439: UserWarning: X does not have valid feature names, but RandomForestRegressor was fitted with feature names\n",
            "  warnings.warn(\n"
          ]
        }
      ]
    }
  ]
}